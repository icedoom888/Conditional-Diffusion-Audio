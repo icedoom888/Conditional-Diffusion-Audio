{
 "cells": [
  {
   "cell_type": "code",
   "execution_count": 1,
   "metadata": {},
   "outputs": [
    {
     "name": "stderr",
     "output_type": "stream",
     "text": [
      "/home/alberto/anaconda3/envs/imgbind/lib/python3.8/site-packages/tqdm/auto.py:21: TqdmWarning: IProgress not found. Please update jupyter and ipywidgets. See https://ipywidgets.readthedocs.io/en/stable/user_install.html\n",
      "  from .autonotebook import tqdm as notebook_tqdm\n",
      "/home/alberto/anaconda3/envs/imgbind/lib/python3.8/site-packages/torchvision/transforms/_functional_video.py:6: UserWarning: The 'torchvision.transforms._functional_video' module is deprecated since 0.12 and will be removed in the future. Please use the 'torchvision.transforms.functional' module instead.\n",
      "  warnings.warn(\n",
      "/home/alberto/anaconda3/envs/imgbind/lib/python3.8/site-packages/torchvision/transforms/_transforms_video.py:22: UserWarning: The 'torchvision.transforms._transforms_video' module is deprecated since 0.12 and will be removed in the future. Please use the 'torchvision.transforms' module instead.\n",
      "  warnings.warn(\n"
     ]
    }
   ],
   "source": [
    "import data\n",
    "import torch\n",
    "from models import imagebind_model\n",
    "from models.imagebind_model import ModalityType\n",
    "import matplotlib.pyplot as plt\n",
    "import numpy as np\n",
    "\n",
    "device = \"cuda:0\" if torch.cuda.is_available() else \"cpu\"\n",
    "# Initialize model\n",
    "model = imagebind_model.imagebind_huge(pretrained=True)\n",
    "model.to(device)\n",
    "\n",
    "def get_imagebind_emb(input_type, file_path):\n",
    "\n",
    "        # Load data\n",
    "    if input_type == 1:\n",
    "        mod = ModalityType.AUDIO\n",
    "\n",
    "        inputs = {\n",
    "            mod: data.load_and_transform_audio_data([file_path], device)\n",
    "        }\n",
    "\n",
    "    elif input_type == 2:\n",
    "        mod = ModalityType.VISION\n",
    "        inputs = {\n",
    "            mod: data.load_and_transform_vision_data([file_path], device)\n",
    "        }\n",
    "        \n",
    "    else:\n",
    "        mod = ModalityType.TEXT\n",
    "        inputs = {\n",
    "            mod: data.load_and_transform_text(file_path, device)\n",
    "        }\n",
    "\n",
    "\n",
    "    with torch.no_grad():\n",
    "        target_embedding = model(inputs)[mod]\n",
    "\n",
    "    return target_embedding"
   ]
  },
  {
   "cell_type": "code",
   "execution_count": 2,
   "metadata": {},
   "outputs": [
    {
     "name": "stdout",
     "output_type": "stream",
     "text": [
      "(11, 1024) (11,)\n"
     ]
    }
   ],
   "source": [
    "# input_type = int(input('1 - audio\\n2 - image\\n3 - text'))\n",
    "# file_path = input('File path/text prompt: ')\n",
    "import os\n",
    "import matplotlib.pyplot as plt\n",
    "import numpy as np\n",
    "from sklearn.decomposition import PCA\n",
    "from sklearn.manifold import TSNE\n",
    "\n",
    "data_path = 'exploration'\n",
    "# data_path = '.assets'\n",
    "# data_path = 'test_data'\n",
    "\n",
    "files = []\n",
    "points = []\n",
    "colors = []\n",
    "\n",
    "for file_path in [os.path.join(data_path, f) for f in os.listdir(data_path)]:\n",
    "\n",
    "    if file_path.endswith('.wav'):\n",
    "        input_type = 1\n",
    "        # continue\n",
    "\n",
    "    elif file_path.endswith('.png') or file_path.endswith('.jpg') or file_path.endswith('.jpeg'):\n",
    "        input_type = 2\n",
    "        continue\n",
    "\n",
    "    elif file_path.endswith('.txt'):\n",
    "        # continue\n",
    "        input_type = 3\n",
    "        with open(file_path, 'r') as file:\n",
    "            file_path = file.read().replace('\\n', '')\n",
    "\n",
    "    else:\n",
    "        raise Exception(f'File type {file_path.split(\".\")[-1]} not accepted.')\n",
    "\n",
    "    emb = get_imagebind_emb(input_type, file_path)\n",
    "\n",
    "    points.append(emb.cpu().numpy()[0])\n",
    "    colors.append(input_type)\n",
    "    files.append(file_path.split('/')[-1])\n",
    "\n",
    "points = np.array(points)\n",
    "colors = np.array(colors)\n",
    "\n",
    "print(points.shape, colors.shape)"
   ]
  },
  {
   "cell_type": "code",
   "execution_count": 3,
   "metadata": {},
   "outputs": [
    {
     "name": "stdout",
     "output_type": "stream",
     "text": [
      "(11, 2)\n"
     ]
    }
   ],
   "source": [
    "pca = TSNE(n_components=2, perplexity=5, init='pca', random_state=0)\n",
    "# pca = PCA(n_components=2)\n",
    "X = pca.fit_transform(points)\n",
    "print(X.shape)"
   ]
  },
  {
   "cell_type": "code",
   "execution_count": 4,
   "metadata": {},
   "outputs": [
    {
     "data": {
      "image/png": "[encoded data removed]",
      "text/plain": [
       "<Figure size 640x480 with 1 Axes>"
      ]
     },
     "metadata": {},
     "output_type": "display_data"
    }
   ],
   "source": [
    "\n",
    "def plot_emb(X, colors, names):\n",
    "    # plot data\n",
    "    plt.scatter(X[:, 0], X[:, 1], c=colors)\n",
    "    for i, txt in enumerate(names):\n",
    "        plt.annotate(txt, (X[i, 0], X[i, 1]), fontsize=8, xytext=(2, 2), textcoords='offset points')\n",
    "        \n",
    "    plt.show()\n",
    "\n",
    "plot_emb(X, colors, files)"
   ]
  }
 ],
 "metadata": {
  "kernelspec": {
   "display_name": "Python 3.8.17 ('imgbind')",
   "language": "python",
   "name": "python3"
  },
  "language_info": {
   "codemirror_mode": {
    "name": "ipython",
    "version": 3
   },
   "file_extension": ".py",
   "mimetype": "text/x-python",
   "name": "python",
   "nbconvert_exporter": "python",
   "pygments_lexer": "ipython3",
   "version": "3.8.17"
  },
  "orig_nbformat": 4,
  "vscode": {
   "interpreter": {
    "hash": "095617d6acab19a7717e4c769547ce080f8ad9062c9b45a6b44467a4819d8333"
   }
  }
 },
 "nbformat": 4,
 "nbformat_minor": 2
}
